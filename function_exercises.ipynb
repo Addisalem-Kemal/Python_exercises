{
 "cells": [
  {
   "cell_type": "code",
   "execution_count": 3,
   "id": "f7defc7e-143e-46a6-9ba1-498d2fa313a0",
   "metadata": {},
   "outputs": [
    {
     "name": "stdin",
     "output_type": "stream",
     "text": [
      "Input a number;  2\n"
     ]
    },
    {
     "name": "stdout",
     "output_type": "stream",
     "text": [
      "True\n",
      "True\n",
      "False\n"
     ]
    }
   ],
   "source": [
    "user_input = input('Input a number: ' )\n",
    "def is_two(x):\n",
    "    if (x == 2) or (x == \"2\"):\n",
    "        return True\n",
    "    else:\n",
    "        return False\n",
    "print(is_two(2))\n",
    "print(is_two(\"2\"))\n",
    "print(is_two(3))"
   ]
  },
  {
   "cell_type": "code",
   "execution_count": 7,
   "id": "e6341114-c923-4867-9ebe-45b4934b3b2e",
   "metadata": {},
   "outputs": [
    {
     "name": "stdout",
     "output_type": "stream",
     "text": [
      "True\n",
      "True\n"
     ]
    }
   ],
   "source": [
    "def is_vowel(vowel):\n",
    "    vowel = vowel.lower()\n",
    "    vowels = \"aeiou\"\n",
    "    if vowel in vowels:\n",
    "        return True\n",
    "    else:\n",
    "        return False\n",
    "    \n",
    "print(is_vowel(\"A\"))\n",
    "print(is_vowel(\"U\"))"
   ]
  },
  {
   "cell_type": "code",
   "execution_count": 14,
   "id": "ffe06584-bb52-45db-b681-28a40d229d8a",
   "metadata": {},
   "outputs": [
    {
     "name": "stdout",
     "output_type": "stream",
     "text": [
      "False\n",
      "True\n"
     ]
    }
   ],
   "source": [
    "\n",
    "def is_consonant(letter):\n",
    "    vowels = 'aeiou'\n",
    "    letter = letter.lower()\n",
    "    if letter not in vowels:\n",
    "        return True\n",
    "    else:\n",
    "        return False\n",
    "print(is_consonant('a'))\n",
    "print(is_consonant('b'))"
   ]
  },
  {
   "cell_type": "code",
   "execution_count": 17,
   "id": "f7582663-9d20-408d-97c5-ea68a899f08f",
   "metadata": {},
   "outputs": [
    {
     "ename": "SyntaxError",
     "evalue": "invalid syntax (2426395783.py, line 8)",
     "output_type": "error",
     "traceback": [
      "\u001b[0;36m  Input \u001b[0;32mIn [17]\u001b[0;36m\u001b[0m\n\u001b[0;31m    retrun letter.capitalize()\u001b[0m\n\u001b[0m           ^\u001b[0m\n\u001b[0;31mSyntaxError\u001b[0m\u001b[0;31m:\u001b[0m invalid syntax\n"
     ]
    }
   ],
   "source": [
    "def cap_consonant(letter):\n",
    "    vowels = 'aeiou'\n",
    "    letter = letter.lower()\n",
    "    for i in vowels:\n",
    "        if x[0] in vowels:\n",
    "            return letter\n",
    "        else:\n",
    "            retrun letter.capitalize()\n",
    "print(cap_consonant(\"great job\")"
   ]
  },
  {
   "cell_type": "code",
   "execution_count": 19,
   "id": "f1028ddd-0d4a-4b37-bcf0-5d5552e05c2b",
   "metadata": {},
   "outputs": [
    {
     "name": "stdout",
     "output_type": "stream",
     "text": [
      "$20.0\n"
     ]
    }
   ],
   "source": [
    "def calculate_tip(a, b):\n",
    "    total_bill = a\n",
    "    tip_percentage = b\n",
    "    tip = total_bill * tip_percentage\n",
    "    return (f'${tip}')\n",
    "\n",
    "print(calculate_tip(100, .20))\n",
    "    "
   ]
  },
  {
   "cell_type": "code",
   "execution_count": 28,
   "id": "c4479f17-49f9-4d23-abc6-8d20d5273fa9",
   "metadata": {},
   "outputs": [],
   "source": [
    "def apply_discount(org_price, discount):\n",
    "    total = org_price - (org_price * discount)\n",
    "    return (f\"${total}\")\n",
    "            "
   ]
  },
  {
   "cell_type": "code",
   "execution_count": 27,
   "id": "f758cb11-1576-4d1c-a565-8a20fa5c9b66",
   "metadata": {},
   "outputs": [
    {
     "ename": "SyntaxError",
     "evalue": "invalid syntax (3960318853.py, line 3)",
     "output_type": "error",
     "traceback": [
      "\u001b[0;36m  Input \u001b[0;32mIn [27]\u001b[0;36m\u001b[0m\n\u001b[0;31m    return no_commas\u001b[0m\n\u001b[0m    ^\u001b[0m\n\u001b[0;31mSyntaxError\u001b[0m\u001b[0;31m:\u001b[0m invalid syntax\n"
     ]
    }
   ],
   "source": [
    "def handle_commas(somestring):\n",
    "    no_commas = int(somestring.replace(\",\", \"\")\n",
    "    return no_commas\n",
    "                    "
   ]
  },
  {
   "cell_type": "code",
   "execution_count": null,
   "id": "4728efb6-f6df-4b79-96c4-86d3bf7734af",
   "metadata": {},
   "outputs": [],
   "source": []
  }
 ],
 "metadata": {
  "kernelspec": {
   "display_name": "Python 3 (ipykernel)",
   "language": "python",
   "name": "python3"
  },
  "language_info": {
   "codemirror_mode": {
    "name": "ipython",
    "version": 3
   },
   "file_extension": ".py",
   "mimetype": "text/x-python",
   "name": "python",
   "nbconvert_exporter": "python",
   "pygments_lexer": "ipython3",
   "version": "3.9.12"
  }
 },
 "nbformat": 4,
 "nbformat_minor": 5
}
