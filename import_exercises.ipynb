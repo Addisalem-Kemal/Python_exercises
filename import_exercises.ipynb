{
 "cells": [
  {
   "cell_type": "code",
   "execution_count": 60,
   "id": "f72ec64e-9694-4f6b-8e4f-c0f66484ca21",
   "metadata": {},
   "outputs": [
    {
     "name": "stdout",
     "output_type": "stream",
     "text": [
      "{'_id': '54e23c3e46ab53a440b580e8', 'index': 0, 'guid': '9962b468-ef3e-4993-b677-617469bc3008', 'isActive': False, 'balance': '$2,097.02', 'picture': 'http://placehold.it/32x32', 'age': 39, 'eyeColor': 'blue', 'name': 'Hebert Estes', 'gender': 'male', 'company': 'ANDRYX', 'email': 'hebertestes@andryx.com', 'phone': '+1 (866) 456-2268', 'address': '121 Emmons Avenue, Klondike, Kentucky, 5975', 'about': 'Sit cillum deserunt irure laboris tempor fugiat laboris. Amet commodo amet est incididunt. Dolore qui fugiat cillum pariatur dolore excepteur elit ipsum.\\r\\n', 'registered': '2014-11-10T01:44:03 +06:00', 'latitude': -80.157843, 'longitude': 161.93016, 'tags': ['sit', 'occaecat', 'non', 'ea', 'sit', 'laboris', 'exercitation'], 'friends': [{'id': 0, 'name': 'Tanisha Leonard'}, {'id': 1, 'name': 'Dennis Wilson'}, {'id': 2, 'name': 'Lupe Howe'}], 'greeting': 'Hello, Hebert Estes! You have 4 unread messages.', 'favoriteFruit': 'strawberry'}\n"
     ]
    }
   ],
   "source": [
    "import json\n",
    "profiles = json.load(open('profiles.json'))"
   ]
  },
  {
   "cell_type": "code",
   "execution_count": 5,
   "id": "f6f34e83-ad84-4632-b0bd-1888e90cc203",
   "metadata": {},
   "outputs": [
    {
     "data": {
      "text/plain": [
       "19"
      ]
     },
     "execution_count": 5,
     "metadata": {},
     "output_type": "execute_result"
    }
   ],
   "source": [
    "len(profiles)"
   ]
  },
  {
   "cell_type": "code",
   "execution_count": 12,
   "id": "fb41c383-f92d-4871-8807-91b2b9537644",
   "metadata": {},
   "outputs": [
    {
     "data": {
      "text/plain": [
       "9"
      ]
     },
     "execution_count": 12,
     "metadata": {},
     "output_type": "execute_result"
    }
   ],
   "source": [
    "len([profile for profile in profiles if profile['isActive']])"
   ]
  },
  {
   "cell_type": "code",
   "execution_count": 17,
   "id": "48fed8cb-d296-48d4-9833-83bb61cbe2a5",
   "metadata": {},
   "outputs": [
    {
     "data": {
      "text/plain": [
       "10"
      ]
     },
     "execution_count": 17,
     "metadata": {},
     "output_type": "execute_result"
    }
   ],
   "source": [
    "len([profile for profile in profiles if not profile['isActive']])"
   ]
  },
  {
   "cell_type": "code",
   "execution_count": 30,
   "id": "cac38d96-b895-4ba3-aee7-2404ac9670ac",
   "metadata": {},
   "outputs": [],
   "source": [
    "def grand_balance(balance):\n",
    "    balance = balance.replace(',', ' ')\n",
    "    balance = balance.replace('$', ' ')\n",
    "    print(balance)\n",
    "    return float(balance)"
   ]
  },
  {
   "cell_type": "code",
   "execution_count": 31,
   "id": "42d36b39-4bf8-4d6c-92a5-6a2eaec470f3",
   "metadata": {},
   "outputs": [
    {
     "data": {
      "text/plain": [
       "52667.02"
      ]
     },
     "execution_count": 31,
     "metadata": {},
     "output_type": "execute_result"
    }
   ],
   "source": [
    "balances = [profile['balance'] for profile in profiles]\n",
    "balances = [balance.replace(',', '') for balance in balances]\n",
    "balances = [balance.replace('$', '') for balance in balances]\n",
    "balances = [float(balance) for balance in balances]\n",
    "sum(balances)"
   ]
  },
  {
   "cell_type": "code",
   "execution_count": 32,
   "id": "54beadb5-7647-4c86-b767-09f5d3e43616",
   "metadata": {},
   "outputs": [
    {
     "data": {
      "text/plain": [
       "2771.9484210526316"
      ]
     },
     "execution_count": 32,
     "metadata": {},
     "output_type": "execute_result"
    }
   ],
   "source": [
    "sum(balances)/len(balances)"
   ]
  },
  {
   "cell_type": "code",
   "execution_count": 47,
   "id": "2293c16a-e9fc-4461-a842-afe3fa1eabea",
   "metadata": {},
   "outputs": [
    {
     "ename": "TypeError",
     "evalue": "'dict' object is not callable",
     "output_type": "error",
     "traceback": [
      "\u001b[0;31m---------------------------------------------------------------------------\u001b[0m",
      "\u001b[0;31mTypeError\u001b[0m                                 Traceback (most recent call last)",
      "Input \u001b[0;32mIn [47]\u001b[0m, in \u001b[0;36m<cell line: 2>\u001b[0;34m()\u001b[0m\n\u001b[1;32m      1\u001b[0m user_with_lowest_balance \u001b[38;5;241m=\u001b[39m profiles[\u001b[38;5;241m0\u001b[39m]\n\u001b[1;32m      2\u001b[0m \u001b[38;5;28;01mfor\u001b[39;00m profile \u001b[38;5;129;01min\u001b[39;00m profiles[\u001b[38;5;241m1\u001b[39m:]:\n\u001b[0;32m----> 3\u001b[0m     \u001b[38;5;28;01mif\u001b[39;00m clean_balance(profile[\u001b[38;5;124m'\u001b[39m\u001b[38;5;124mbalance\u001b[39m\u001b[38;5;124m'\u001b[39m]) \u001b[38;5;241m<\u001b[39m clean_balance(\u001b[43muser_with_lowest_balance\u001b[49m\u001b[43m(\u001b[49m\u001b[43m[\u001b[49m\u001b[38;5;124;43m'\u001b[39;49m\u001b[38;5;124;43mbalance\u001b[39;49m\u001b[38;5;124;43m'\u001b[39;49m\u001b[43m]\u001b[49m\u001b[43m)\u001b[49m):\n\u001b[1;32m      4\u001b[0m         user_with_lowest_balance \u001b[38;5;241m=\u001b[39m profile\n",
      "\u001b[0;31mTypeError\u001b[0m: 'dict' object is not callable"
     ]
    }
   ],
   "source": [
    "user_with_lowest_balance = profiles[0]\n",
    "for profile in profiles[1:]:\n",
    "    if clean_balance(profile['balance']) < clean_balance(user_with_lowest_balance(['balance'])):\n",
    "        user_with_lowest_balance = profile\n",
    "      "
   ]
  },
  {
   "cell_type": "code",
   "execution_count": 59,
   "id": "32dab429-389c-4a7d-ad7f-b12222728a41",
   "metadata": {},
   "outputs": [],
   "source": [
    "user_with_lowest_balance = profiles[0]\n",
    "for profile in profiles[1:]:\n",
    "    if clean_balance(profile['balance']) < clean_balance(user_with_lowest_balance['balance']):\n",
    "        user_with_lowest_balance = profile"
   ]
  },
  {
   "cell_type": "code",
   "execution_count": 45,
   "id": "91eafc4e-1e5b-4004-a788-6bf882884393",
   "metadata": {},
   "outputs": [
    {
     "data": {
      "text/plain": [
       "'strawberry'"
      ]
     },
     "execution_count": 45,
     "metadata": {},
     "output_type": "execute_result"
    }
   ],
   "source": [
    "favorite_fruits = [profile['favoriteFruit'] for profile in profiles]\n",
    "fruit_counts = {}\n",
    "\n",
    "for fruit in favorite_fruits:\n",
    "    if fruit in fruit_counts:\n",
    "        fruit_counts[fruit] += 1\n",
    "    else:\n",
    "        fruit_counts[fruit] = 1\n",
    "max(fruit_counts)\n"
   ]
  },
  {
   "cell_type": "code",
   "execution_count": 44,
   "id": "a59d615b-2bc1-4f54-9aaa-9915ffaf5d7f",
   "metadata": {},
   "outputs": [
    {
     "data": {
      "text/plain": [
       "'apple'"
      ]
     },
     "execution_count": 44,
     "metadata": {},
     "output_type": "execute_result"
    }
   ],
   "source": [
    "min(fruit_counts)"
   ]
  },
  {
   "cell_type": "code",
   "execution_count": 65,
   "id": "a29ad9bd-c524-49f5-b918-1271681d5045",
   "metadata": {},
   "outputs": [
    {
     "data": {
      "text/plain": [
       "210"
      ]
     },
     "execution_count": 65,
     "metadata": {},
     "output_type": "execute_result"
    }
   ],
   "source": [
    "def extract_digits(y):\n",
    "    return ''.join([x for x in y if x.isdigit()])\n",
    "\n",
    "unread_messages = [extract_digits(profile['greeting']) for profile in profiles]\n",
    "sum([int(message) for message in unread_messages])"
   ]
  }
 ],
 "metadata": {
  "kernelspec": {
   "display_name": "Python 3 (ipykernel)",
   "language": "python",
   "name": "python3"
  },
  "language_info": {
   "codemirror_mode": {
    "name": "ipython",
    "version": 3
   },
   "file_extension": ".py",
   "mimetype": "text/x-python",
   "name": "python",
   "nbconvert_exporter": "python",
   "pygments_lexer": "ipython3",
   "version": "3.9.12"
  }
 },
 "nbformat": 4,
 "nbformat_minor": 5
}
