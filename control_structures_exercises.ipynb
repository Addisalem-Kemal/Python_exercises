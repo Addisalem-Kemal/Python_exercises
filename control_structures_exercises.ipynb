{
 "cells": [
  {
   "cell_type": "code",
   "execution_count": 1,
   "id": "d63e6956-c8fa-4c35-9ffa-a1e171f7a926",
   "metadata": {},
   "outputs": [
    {
     "name": "stdout",
     "output_type": "stream",
     "text": [
      "Yay, its Monday\n"
     ]
    }
   ],
   "source": [
    "its_monday = True\n",
    "\n",
    "if its_monday:\n",
    "    print('Yay, its Monday')"
   ]
  },
  {
   "cell_type": "code",
   "execution_count": 6,
   "id": "b9b1a30b-2a23-47d4-88d9-314063ff2d41",
   "metadata": {},
   "outputs": [
    {
     "name": "stdin",
     "output_type": "stream",
     "text": [
      "Put day of the week:  tuesday\n"
     ]
    },
    {
     "name": "stdout",
     "output_type": "stream",
     "text": [
      "Its not Monday\n"
     ]
    }
   ],
   "source": [
    "user_input = input('Put day of the week: ')\n",
    "user_input = user_input.lower()\n",
    "if user_input == 'monday':\n",
    "    print('Yay, Its Monday')\n",
    "else:\n",
    "    print('Its not Monday')"
   ]
  },
  {
   "cell_type": "code",
   "execution_count": 16,
   "id": "5e3f0226-e0a1-430a-a477-a70ddc207d35",
   "metadata": {},
   "outputs": [
    {
     "name": "stdin",
     "output_type": "stream",
     "text": [
      "Choose day of the week:  saturday\n"
     ]
    },
    {
     "name": "stdout",
     "output_type": "stream",
     "text": [
      "Its the weekend\n"
     ]
    }
   ],
   "source": [
    "user_input = input('Choose day of the week: ')\n",
    "user_input = user_input.lower()\n",
    "\n",
    "if user_input == ('saturday') or user_input == ('sunday'):\n",
    "    print('Its the weekend')\n",
    "else:\n",
    "    print('Its a weekday')"
   ]
  },
  {
   "cell_type": "code",
   "execution_count": 22,
   "id": "36cf763d-f2cd-4b79-b659-a4d91e7a5918",
   "metadata": {},
   "outputs": [
    {
     "name": "stdin",
     "output_type": "stream",
     "text": [
      "Hours worked:  50\n",
      "Hourly rate:  10\n"
     ]
    },
    {
     "name": "stdout",
     "output_type": "stream",
     "text": [
      "550.0\n"
     ]
    }
   ],
   "source": [
    "hrs_worked = input('Hours worked: ')\n",
    "hourly_rate = input('Hourly rate: ')\n",
    "over_time_hrs = int(hrs_worked) - 40\n",
    "\n",
    "hrs_worked = int(hrs_worked)\n",
    "hourly_rate = int(hourly_rate)\n",
    "over_time_hrs = int(over_time_hrs)\n",
    "\n",
    "if int(hrs_worked) <= 40:\n",
    "    paycheck = hourly_rate * hrs_worked\n",
    "else:\n",
    "    paycheck = (1.5 * hourly_rate * over_time_hrs) + (hourly_rate * 40)\n",
    "    print(paycheck)"
   ]
  },
  {
   "cell_type": "code",
   "execution_count": 23,
   "id": "60475b14-76d5-4450-acaa-77eddf024864",
   "metadata": {},
   "outputs": [
    {
     "name": "stdout",
     "output_type": "stream",
     "text": [
      "5\n",
      "6\n",
      "7\n",
      "8\n",
      "9\n",
      "10\n",
      "11\n",
      "12\n",
      "13\n",
      "14\n",
      "15\n"
     ]
    }
   ],
   "source": [
    "i = 5 \n",
    "while i <= 15:\n",
    "    print(i)\n",
    "    i += 1"
   ]
  },
  {
   "cell_type": "code",
   "execution_count": 24,
   "id": "1266b868-ce1e-475b-97e0-0ff633a8013a",
   "metadata": {},
   "outputs": [
    {
     "name": "stdout",
     "output_type": "stream",
     "text": [
      "0\n",
      "2\n",
      "4\n",
      "6\n",
      "8\n",
      "10\n",
      "12\n",
      "14\n",
      "16\n",
      "18\n",
      "20\n",
      "22\n",
      "24\n",
      "26\n",
      "28\n",
      "30\n",
      "32\n",
      "34\n",
      "36\n",
      "38\n",
      "40\n",
      "42\n",
      "44\n",
      "46\n",
      "48\n",
      "50\n",
      "52\n",
      "54\n",
      "56\n",
      "58\n",
      "60\n",
      "62\n",
      "64\n",
      "66\n",
      "68\n",
      "70\n",
      "72\n",
      "74\n",
      "76\n",
      "78\n",
      "80\n",
      "82\n",
      "84\n",
      "86\n",
      "88\n",
      "90\n",
      "92\n",
      "94\n",
      "96\n",
      "98\n",
      "100\n"
     ]
    }
   ],
   "source": [
    "i = 0 \n",
    "while i <= 100:\n",
    "    print(i)\n",
    "    i += 2 "
   ]
  },
  {
   "cell_type": "code",
   "execution_count": 25,
   "id": "2b360b64-d6ba-40ac-bbe1-54e45da124f6",
   "metadata": {},
   "outputs": [
    {
     "name": "stdout",
     "output_type": "stream",
     "text": [
      "100\n",
      "95\n",
      "90\n",
      "85\n",
      "80\n",
      "75\n",
      "70\n",
      "65\n",
      "60\n",
      "55\n",
      "50\n",
      "45\n",
      "40\n",
      "35\n",
      "30\n",
      "25\n",
      "20\n",
      "15\n",
      "10\n",
      "5\n",
      "0\n",
      "-5\n",
      "-10\n"
     ]
    }
   ],
   "source": [
    "i = 100\n",
    "while i >= -10:\n",
    "    print(i)\n",
    "    i -= 5"
   ]
  },
  {
   "cell_type": "code",
   "execution_count": 27,
   "id": "3b28ad44-3595-4af0-a60d-b10189666856",
   "metadata": {},
   "outputs": [
    {
     "name": "stdout",
     "output_type": "stream",
     "text": [
      "2\n",
      "4\n",
      "16\n",
      "256\n",
      "65536\n"
     ]
    }
   ],
   "source": [
    "i = 2 \n",
    "while i < 1000000:\n",
    "    print(i)\n",
    "    i = i ** 2\n",
    "    "
   ]
  },
  {
   "cell_type": "code",
   "execution_count": 28,
   "id": "e73b2e59-0609-421a-b42b-575e0872099a",
   "metadata": {},
   "outputs": [
    {
     "name": "stdout",
     "output_type": "stream",
     "text": [
      "100\n",
      "95\n",
      "90\n",
      "85\n",
      "80\n",
      "75\n",
      "70\n",
      "65\n",
      "60\n",
      "55\n",
      "50\n",
      "45\n",
      "40\n",
      "35\n",
      "30\n",
      "25\n",
      "20\n",
      "15\n",
      "10\n",
      "5\n"
     ]
    }
   ],
   "source": [
    "i = 100\n",
    "while i > 0:\n",
    "    print(i)\n",
    "    i -= 5"
   ]
  },
  {
   "cell_type": "code",
   "execution_count": 30,
   "id": "0e9cf681-b4cc-4cb7-9922-03a4880145a9",
   "metadata": {},
   "outputs": [
    {
     "name": "stdin",
     "output_type": "stream",
     "text": [
      "Input a number:  12\n"
     ]
    },
    {
     "name": "stdout",
     "output_type": "stream",
     "text": [
      "12 x 1 = 12\n",
      "12 x 2 = 24\n",
      "12 x 3 = 36\n",
      "12 x 4 = 48\n",
      "12 x 5 = 60\n",
      "12 x 6 = 72\n",
      "12 x 7 = 84\n",
      "12 x 8 = 96\n",
      "12 x 9 = 108\n",
      "12 x 10 = 120\n"
     ]
    }
   ],
   "source": [
    "x =  int(input('Input a number: '))\n",
    "for i in range(1, 11):\n",
    "    print(x, 'x', i, '=', x*i)"
   ]
  },
  {
   "cell_type": "code",
   "execution_count": 31,
   "id": "c32c39c0-6302-4ee6-a878-31bc0cad5ea4",
   "metadata": {},
   "outputs": [
    {
     "name": "stdout",
     "output_type": "stream",
     "text": [
      "\n",
      "1\n",
      "22\n",
      "333\n",
      "4444\n",
      "55555\n",
      "666666\n",
      "7777777\n",
      "88888888\n",
      "999999999\n"
     ]
    }
   ],
   "source": [
    "for i in range(10):\n",
    "    print(str(i) * i)"
   ]
  },
  {
   "cell_type": "code",
   "execution_count": 33,
   "id": "2620cc80-21c9-45cc-86c3-b74268c33168",
   "metadata": {},
   "outputs": [],
   "source": [
    "def get_odd_between_1_and_50():\n",
    "    while True:\n",
    "        user_num = input(\"Choose a number between 1 and 50: \")\n",
    "        \n",
    "        if user_num.isdigit():\n",
    "            user_num = int(user_num)\n",
    "            big_enough = user_num > 1 \n",
    "            not_too_big = user_num < 50\n",
    "            odd = user_num % 2 != 0\n",
    "            \n",
    "            if big_enough and not_too_big and odd:\n",
    "                break\n",
    "            else:\n",
    "                print(\"Your input must be between 1 and 50 and odd\")\n",
    "                \n",
    "        else:\n",
    "            print(\"Your input must be numbers\")\n",
    "            \n",
    "    return user_num"
   ]
  },
  {
   "cell_type": "code",
   "execution_count": null,
   "id": "a80a449f",
   "metadata": {},
   "outputs": [],
   "source": []
  }
 ],
 "metadata": {
  "kernelspec": {
   "display_name": "Python 3 (ipykernel)",
   "language": "python",
   "name": "python3"
  },
  "language_info": {
   "codemirror_mode": {
    "name": "ipython",
    "version": 3
   },
   "file_extension": ".py",
   "mimetype": "text/x-python",
   "name": "python",
   "nbconvert_exporter": "python",
   "pygments_lexer": "ipython3",
   "version": "3.9.12"
  }
 },
 "nbformat": 4,
 "nbformat_minor": 5
}
